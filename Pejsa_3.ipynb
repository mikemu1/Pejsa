{
 "cells": [
  {
   "cell_type": "markdown",
   "metadata": {},
   "source": [
    "# Pejsa Ballistics \n",
    "#### Calculate trajectory: drop {inches} at range {yards} , for velocity > 1400 fps"
   ]
  },
  {
   "cell_type": "code",
   "execution_count": 28,
   "metadata": {},
   "outputs": [],
   "source": [
    "import numpy as np\n",
    "import pandas as pd\n",
    "import sympy as sp"
   ]
  },
  {
   "cell_type": "code",
   "execution_count": 29,
   "metadata": {},
   "outputs": [],
   "source": [
    "sp.init_printing()"
   ]
  },
  {
   "cell_type": "code",
   "execution_count": 30,
   "metadata": {},
   "outputs": [],
   "source": [
    "# SymPy symbols\n",
    "F0, F, C, a, V0, D, G, t, R, V = sp.symbols('F0 F C a V0 D G t R V')"
   ]
  },
  {
   "cell_type": "code",
   "execution_count": null,
   "metadata": {},
   "outputs": [],
   "source": []
  },
  {
   "cell_type": "markdown",
   "metadata": {},
   "source": [
    "### Initial Retardation Coefficient     \n",
    "$$F_{0} = C\\, a \\sqrt{V_{0}}$$  \n",
    "$F_{0}$ : Retardation coefficient at range=0  {feet}  \n",
    "$C$ : Ballistic coefficient   \n",
    "$a = 166$ : Correction for G1 bullet      \n",
    "$V_{0}$ : Velocity at Range=0  {feet/sec}\n"
   ]
  },
  {
   "cell_type": "code",
   "execution_count": null,
   "metadata": {},
   "outputs": [],
   "source": []
  },
  {
   "cell_type": "markdown",
   "metadata": {},
   "source": [
    "### Retardation Coefficient\n",
    "$$F = F_{0} - 0.4\\, R $$\n",
    "$F_{0}$ : Initial Retardation coefficient  {feet}  \n",
    "$R$ : Range {yards}   \n",
    "\n",
    "\n",
    "\n"
   ]
  },
  {
   "cell_type": "code",
   "execution_count": null,
   "metadata": {},
   "outputs": [],
   "source": []
  },
  {
   "cell_type": "markdown",
   "metadata": {},
   "source": [
    "### Residual Velocity\n",
    "$$V = V_{0} \\left(1 - \\frac{3}{2} \\frac{R}{F_{0}}\\right)^{2} $$   \n",
    "$V_{0}$ : Velocity at Range=0  {feet/sec}   \n",
    "$V$ : Velocity {fps} at Range = R   \n",
    "$R$ : Range {yards}   \n",
    "\n",
    "\n"
   ]
  },
  {
   "cell_type": "code",
   "execution_count": null,
   "metadata": {},
   "outputs": [],
   "source": []
  },
  {
   "cell_type": "markdown",
   "metadata": {},
   "source": [
    "### Time\n",
    "$$t = \\frac{2 F_{0}}{V_{0}} \\left(\\sqrt{\\frac{V_{0}}{V}} - 1\\right) $$    \n",
    "$t$ : Time {sec} at Range = R, Velocity = V\n"
   ]
  },
  {
   "cell_type": "code",
   "execution_count": null,
   "metadata": {},
   "outputs": [],
   "source": []
  },
  {
   "cell_type": "markdown",
   "metadata": {},
   "source": [
    "### Drop\n",
    "$$D = \\left( \\frac{ \\frac{G}{V_{0}} }{ \\frac {1}{R} - \\frac{1}{F} } \\right)^{2} $$    \n",
    "$D$ : Drop {in} at Range = R   \n",
    "$G=41.68$ : Gravitation Constant"
   ]
  },
  {
   "cell_type": "code",
   "execution_count": null,
   "metadata": {},
   "outputs": [],
   "source": []
  },
  {
   "cell_type": "code",
   "execution_count": null,
   "metadata": {},
   "outputs": [],
   "source": []
  },
  {
   "cell_type": "code",
   "execution_count": null,
   "metadata": {},
   "outputs": [],
   "source": []
  },
  {
   "cell_type": "code",
   "execution_count": null,
   "metadata": {},
   "outputs": [],
   "source": []
  },
  {
   "cell_type": "code",
   "execution_count": null,
   "metadata": {},
   "outputs": [],
   "source": []
  },
  {
   "cell_type": "code",
   "execution_count": null,
   "metadata": {},
   "outputs": [],
   "source": []
  }
 ],
 "metadata": {
  "kernelspec": {
   "display_name": "Python 3",
   "language": "python",
   "name": "python3"
  },
  "language_info": {
   "codemirror_mode": {
    "name": "ipython",
    "version": 3
   },
   "file_extension": ".py",
   "mimetype": "text/x-python",
   "name": "python",
   "nbconvert_exporter": "python",
   "pygments_lexer": "ipython3",
   "version": "3.6.3"
  }
 },
 "nbformat": 4,
 "nbformat_minor": 2
}
