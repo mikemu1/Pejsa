{
 "cells": [
  {
   "cell_type": "markdown",
   "metadata": {},
   "source": [
    "----\n",
    "# Pejsa Ballistics   \n",
    "* Calculate trajectory: drop {inches} at range {yards}     \n",
    "* Only for velocity > 1400 fps   \n",
    "----"
   ]
  },
  {
   "cell_type": "code",
   "execution_count": 23,
   "metadata": {},
   "outputs": [],
   "source": [
    "import numpy as np\n",
    "import pandas as pd\n",
    "import matplotlib.pyplot as plt"
   ]
  },
  {
   "cell_type": "code",
   "execution_count": 24,
   "metadata": {},
   "outputs": [],
   "source": [
    "%matplotlib inline"
   ]
  },
  {
   "cell_type": "code",
   "execution_count": 25,
   "metadata": {},
   "outputs": [],
   "source": [
    "# Constants\n",
    "A = 166\n",
    "G = 41.68"
   ]
  },
  {
   "cell_type": "code",
   "execution_count": 26,
   "metadata": {},
   "outputs": [],
   "source": [
    "# Initial Conditions\n",
    "v0 = 2900\n",
    "c = 0.484  # .308 M2 bullet\n",
    "z = 100\n",
    "s = 1.5\n",
    "delta = 0"
   ]
  },
  {
   "cell_type": "markdown",
   "metadata": {},
   "source": [
    "***\n",
    "### Initial Retardation Coefficient     \n",
    "$$f_{0} = c\\, A \\sqrt{v_{0}}$$  \n",
    "$f_{0}$ : Retardation coefficient at range=0  {feet}  \n",
    "$c$ : Ballistic coefficient   \n",
    "$A = 166$ : Correction for G1 bullet      \n",
    "$v_{0}$ : Velocity at Range=0  {feet/sec}  \n",
    "\n",
    "***"
   ]
  },
  {
   "cell_type": "code",
   "execution_count": 27,
   "metadata": {},
   "outputs": [
    {
     "data": {
      "image/png": "[encoded data removed]",
      "text/latex": [
       "$$4326.656812644145$$"
      ],
      "text/plain": [
       "4326.656812644145"
      ]
     },
     "execution_count": 27,
     "metadata": {},
     "output_type": "execute_result"
    }
   ],
   "source": [
    "f0 = c * A * np.sqrt(v0)\n",
    "f0"
   ]
  },
  {
   "cell_type": "markdown",
   "metadata": {},
   "source": [
    "### Retardation Coefficient\n",
    "$$f = f_{0} - 0.4\\, r $$\n",
    "$f_{0}$ : Initial Retardation coefficient  {feet}  \n",
    "$r$ : Range {yards}   \n",
    "\n",
    "\n",
    "\n"
   ]
  },
  {
   "cell_type": "code",
   "execution_count": 28,
   "metadata": {},
   "outputs": [
    {
     "data": {
      "image/png": "[encoded data removed]",
      "text/latex": [
       "$$4286.656812644145$$"
      ],
      "text/plain": [
       "4286.656812644145"
      ]
     },
     "execution_count": 28,
     "metadata": {},
     "output_type": "execute_result"
    }
   ],
   "source": [
    "def f(r):\n",
    "    return f0 - 0.4 * r\n",
    "f(z) # test: f at zero range"
   ]
  },
  {
   "cell_type": "markdown",
   "metadata": {},
   "source": [
    "### Residual Velocity\n",
    "$$v = v_{0} \\left(1 - \\frac{3}{2} \\frac{r}{f_{0}}\\right)^{2} $$   \n",
    "$v_{0}$ : Velocity at Range=0  {feet/sec}   \n",
    "$v$ : Velocity {fps} at Range = r   \n",
    "$r$ : Range {yards}   \n",
    "\n",
    "\n"
   ]
  },
  {
   "cell_type": "code",
   "execution_count": 29,
   "metadata": {},
   "outputs": [
    {
     "data": {
      "image/png": "[encoded data removed]",
      "text/latex": [
       "$$2702.4065441307803$$"
      ],
      "text/plain": [
       "2702.4065441307803"
      ]
     },
     "execution_count": 29,
     "metadata": {},
     "output_type": "execute_result"
    }
   ],
   "source": [
    "def v(r):\n",
    "    return v0 * (1 - 1.5*(r/f0))**2\n",
    "v(z)  # test: velocity at zero range"
   ]
  },
  {
   "cell_type": "markdown",
   "metadata": {},
   "source": [
    "### Time\n",
    "$$t = \\frac{2 f_{0}}{v_{0}} \\left(\\sqrt{\\frac{v_{0}}{v}} - 1\\right) = \\frac { \\frac{1}{v_{0}} }{ \\frac{1}{3r} - \\frac{1}{2f_{0}} } $$    \n",
    "$t$ : Time {sec} at Range = r, Velocity = v\n"
   ]
  },
  {
   "cell_type": "code",
   "execution_count": 35,
   "metadata": {},
   "outputs": [
    {
     "data": {
      "image/png": "[encoded data removed]",
      "text/latex": [
       "$$0.10716350602709818$$"
      ],
      "text/plain": [
       "0.10716350602709818"
      ]
     },
     "execution_count": 35,
     "metadata": {},
     "output_type": "execute_result"
    }
   ],
   "source": [
    "def t(r):\n",
    "    num = 1/v0\n",
    "    denom = (1/(3*r)) - (1/(2*f0))\n",
    "    return num/denom\n",
    "t(z)"
   ]
  },
  {
   "cell_type": "markdown",
   "metadata": {},
   "source": [
    "### Drop\n",
    "$$d = \\left( \\frac{ \\frac{G}{v_{0}} }{ \\frac {1}{r} - \\frac{1}{f} } \\right)^{2} $$    \n",
    "$d$ : Drop {in} at Range = r   \n",
    "$G=41.68$ : Gravitation Constant"
   ]
  },
  {
   "cell_type": "code",
   "execution_count": 36,
   "metadata": {},
   "outputs": [
    {
     "data": {
      "image/png": "[encoded data removed]",
      "text/latex": [
       "$$2.1655196597915976$$"
      ],
      "text/plain": [
       "2.1655196597915976"
      ]
     },
     "execution_count": 36,
     "metadata": {},
     "output_type": "execute_result"
    }
   ],
   "source": [
    "def d(r):\n",
    "    fr = f(r)\n",
    "    num = G/v0\n",
    "    denom = 1/r - 1/fr\n",
    "    return (num/denom)**2\n",
    "dz = d(z)  # save this value for height calculation\n",
    "dz"
   ]
  },
  {
   "cell_type": "markdown",
   "metadata": {},
   "source": [
    "### Height\n",
    "$$h = -d \\, cos(\\delta) - s + d_{z} \\frac{r}{z}  $$   \n",
    "$h$ : Projectile path relative to sightline {in}   \n",
    "$s$ : Sight height above bore centerline {in}   \n",
    "$\\delta$ : Angle up(+) or down(-) slope   \n",
    "$z$ : Zero range {yards}   \n",
    "$d_{z}$ : Drop at Zero range\n"
   ]
  },
  {
   "cell_type": "code",
   "execution_count": 37,
   "metadata": {},
   "outputs": [
    {
     "data": {
      "image/png": "[encoded data removed]",
      "text/latex": [
       "$$-1.5$$"
      ],
      "text/plain": [
       "-1.5"
      ]
     },
     "execution_count": 37,
     "metadata": {},
     "output_type": "execute_result"
    }
   ],
   "source": [
    "def h(r):\n",
    "    dr = d(r)\n",
    "    return -dr*np.cos(delta) - s + dz * r/z\n",
    "h(z)   # "
   ]
  },
  {
   "cell_type": "code",
   "execution_count": null,
   "metadata": {},
   "outputs": [],
   "source": []
  },
  {
   "cell_type": "code",
   "execution_count": null,
   "metadata": {},
   "outputs": [],
   "source": []
  },
  {
   "cell_type": "code",
   "execution_count": null,
   "metadata": {},
   "outputs": [],
   "source": []
  }
 ],
 "metadata": {
  "kernelspec": {
   "display_name": "Python 3",
   "language": "python",
   "name": "python3"
  },
  "language_info": {
   "codemirror_mode": {
    "name": "ipython",
    "version": 3
   },
   "file_extension": ".py",
   "mimetype": "text/x-python",
   "name": "python",
   "nbconvert_exporter": "python",
   "pygments_lexer": "ipython3",
   "version": "3.6.4"
  }
 },
 "nbformat": 4,
 "nbformat_minor": 2
}
