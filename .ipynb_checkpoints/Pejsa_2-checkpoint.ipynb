{
 "cells": [
  {
   "cell_type": "markdown",
   "metadata": {},
   "source": [
    "# Pejsa Ballistics "
   ]
  },
  {
   "cell_type": "code",
   "execution_count": 3,
   "metadata": {},
   "outputs": [],
   "source": [
    "import numpy as np\n",
    "import pandas as pd\n",
    "import sympy as sp"
   ]
  },
  {
   "cell_type": "code",
   "execution_count": 4,
   "metadata": {},
   "outputs": [],
   "source": [
    "sp.init_printing()"
   ]
  },
  {
   "cell_type": "code",
   "execution_count": 5,
   "metadata": {},
   "outputs": [],
   "source": [
    "F0, C, a, V0 = sp.symbols('F0 C a V0')"
   ]
  },
  {
   "cell_type": "code",
   "execution_count": 6,
   "metadata": {},
   "outputs": [
    {
     "data": {
      "image/png": "[encoded data removed]",
      "text/latex": [
       "$$F_{0} = C \\sqrt{V_{0}} a$$"
      ],
      "text/plain": [
       "         ____  \n",
       "F₀ = C⋅╲╱ V₀ ⋅a"
      ]
     },
     "execution_count": 6,
     "metadata": {},
     "output_type": "execute_result"
    }
   ],
   "source": [
    "f0 = sp.Eq(F0, C*a*sp.sqrt(V0))\n",
    "f0"
   ]
  },
  {
   "cell_type": "markdown",
   "metadata": {},
   "source": [
    "### Initial Retardation Coefficient\n",
    "$$F_{0} = C\\, a \\sqrt{V_{0}}$$\n",
    "$F_{0}$ : Retardation coefficient at range=0  {feet}  \n",
    "$C$ : Ballistic coefficient   \n",
    "$a = 166$ : Correction for G1 bullet {unitless}   \n",
    "$V_{0}$ : Velocity at Range=0  {feet/sec}\n"
   ]
  },
  {
   "cell_type": "code",
   "execution_count": 13,
   "metadata": {},
   "outputs": [],
   "source": [
    "R, V = sp.symbols('R V')"
   ]
  },
  {
   "cell_type": "code",
   "execution_count": 14,
   "metadata": {},
   "outputs": [
    {
     "data": {
      "image/png": "[encoded data removed]",
      "text/latex": [
       "$$V = V_{0} \\left(1 - \\frac{1.5 R}{F_{0}}\\right)^{2}$$"
      ],
      "text/plain": [
       "                  2\n",
       "       ⎛    1.5⋅R⎞ \n",
       "V = V₀⋅⎜1 - ─────⎟ \n",
       "       ⎝      F₀ ⎠ "
      ]
     },
     "execution_count": 14,
     "metadata": {},
     "output_type": "execute_result"
    }
   ],
   "source": [
    "v = sp.Eq(V, V0*(1 - (3/2)*(R/F0))**2)\n",
    "v"
   ]
  },
  {
   "cell_type": "code",
   "execution_count": null,
   "metadata": {},
   "outputs": [],
   "source": []
  },
  {
   "cell_type": "markdown",
   "metadata": {},
   "source": [
    "### Residual Velocity\n",
    "$$V = V_{0} \\left(1 - \\frac{3}{2} \\frac{R}{F_{0}}\\right)^{2} $$   \n",
    "$V$ : Velocity at Range = R   \n",
    "$R$ : Range (yards)   \n",
    "\n",
    "\n"
   ]
  },
  {
   "cell_type": "code",
   "execution_count": 16,
   "metadata": {},
   "outputs": [],
   "source": [
    "t = sp.symbols('t')"
   ]
  },
  {
   "cell_type": "code",
   "execution_count": 17,
   "metadata": {},
   "outputs": [
    {
     "data": {
      "image/png": "[encoded data removed]",
      "text/latex": [
       "$$t = \\frac{2 F_{0}}{V_{0}} \\left(\\sqrt{\\frac{V_{0}}{V}} - 1\\right)$$"
      ],
      "text/plain": [
       "         ⎛    ____    ⎞\n",
       "         ⎜   ╱ V₀     ⎟\n",
       "    2⋅F₀⋅⎜  ╱  ──  - 1⎟\n",
       "         ⎝╲╱   V      ⎠\n",
       "t = ───────────────────\n",
       "             V₀        "
      ]
     },
     "execution_count": 17,
     "metadata": {},
     "output_type": "execute_result"
    }
   ],
   "source": [
    "tr = sp.Eq(t, 2*(F0/V0)*(sp.sqrt(V0/V)-1))\n",
    "tr"
   ]
  },
  {
   "cell_type": "code",
   "execution_count": null,
   "metadata": {},
   "outputs": [],
   "source": []
  },
  {
   "cell_type": "code",
   "execution_count": null,
   "metadata": {},
   "outputs": [],
   "source": []
  }
 ],
 "metadata": {
  "kernelspec": {
   "display_name": "Python 3",
   "language": "python",
   "name": "python3"
  },
  "language_info": {
   "codemirror_mode": {
    "name": "ipython",
    "version": 3
   },
   "file_extension": ".py",
   "mimetype": "text/x-python",
   "name": "python",
   "nbconvert_exporter": "python",
   "pygments_lexer": "ipython3",
   "version": "3.6.3"
  }
 },
 "nbformat": 4,
 "nbformat_minor": 2
}
